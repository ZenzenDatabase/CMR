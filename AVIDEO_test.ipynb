{
 "cells": [
  {
   "cell_type": "code",
   "execution_count": 9,
   "metadata": {},
   "outputs": [],
   "source": [
    "# from utils import readout_data\n",
    "import os\n",
    "import numpy as np"
   ]
  },
  {
   "cell_type": "code",
   "execution_count": 11,
   "metadata": {},
   "outputs": [],
   "source": [
    "def read_data(path):\n",
    "    data = {}\n",
    "    filenames = os.listdir(path)\n",
    "    sample    = np.load(os.path.join(path, filenames[0]))\n",
    "    if len(sample.shape) == 2:\n",
    "        ## read out as one-dimension mapped and normalizated\n",
    "        for filename in os.listdir(path):\n",
    "            features = uint8_to_float32(np.mean(np.load(path + '/' + filename), axis=0))\n",
    "            data[filename[:-4]] = features\n",
    "    else:\n",
    "        ## read out as it is\n",
    "        for filename in os.listdir(path):\n",
    "            features = np.load(path + '/' + filename)\n",
    "            data[filename[:-4]] = features   \n",
    "    return data\n",
    "\n",
    "def readout_data(audio_path, rgb_path, label_path):\n",
    "    audio_data, rgb_data, label_data = read_data(audio_path), read_data(rgb_path), read_data(label_path)\n",
    "    return audio_data, rgb_data, label_data\n",
    "\n",
    "def uint8_to_float32(x):\n",
    "    return (np.float32(x) - 128.0) / 256.0"
   ]
  },
  {
   "cell_type": "code",
   "execution_count": 13,
   "metadata": {},
   "outputs": [],
   "source": [
    "audio_path = '/home/dhzeng/AVIDEO/Data/vgg/'\n",
    "rgb_path = '/home/dhzeng/AVIDEO/Data/inception/'\n",
    "label_path = '/home/dhzeng/AVIDEO/Data/VEGAS_classes/'\n",
    "\n",
    "fold_path = '/home/dhzeng/AVIDEO/Data/folds/'\n",
    "\n",
    "audio_data, rgb_data, label_data = readout_data(audio_path, rgb_path, label_path)"
   ]
  },
  {
   "cell_type": "code",
   "execution_count": 18,
   "metadata": {},
   "outputs": [],
   "source": [
    "def train_test_split(data_dict, train_vid, test_vid):\n",
    "    if not list(data_dict.values())[0].shape:\n",
    "        ## label\n",
    "        Train, Test = np.empty((0), np.float32), np.empty((0), np.float32)\n",
    "    elif len(list(data_dict.values())[0].shape)==2:\n",
    "        ## when input data dimmension = 2\n",
    "        data_len =  list(data_dict.values())[0].shape\n",
    "        Train, Test = np.empty((0, data_len[0], data_len[1]), np.float32), np.empty((0, data_len[0], data_len[1]), np.float32)\n",
    "    elif len(list(data_dict.values())[0].shape)==1:\n",
    "        ## when input data dimmension = 1\n",
    "        data_len =  list(data_dict.values())[0].shape[0]\n",
    "        Train, Test = np.empty((0,data_len), np.float32), np.empty((0,data_len), np.float32)\n",
    "    for vid in data_dict:\n",
    "        data_item = np.expand_dims(data_dict[vid], axis=0)\n",
    "        if vid in train_vid:\n",
    "            Train = np.concatenate((Train, data_item), axis=0)\n",
    "        if vid in test_vid:\n",
    "             Test = np.concatenate((Test, data_item), axis=0)\n",
    "    print(\"Trainning set and Testing shape:\", Train.shape, Test.shape)\n",
    "    return Train.astype('float32'), Test.astype('float32')\n",
    "\n",
    "def load_fold_ids(fold_path):\n",
    "    fold_file = open(fold_path)\n",
    "    return fold_file.read().splitlines()"
   ]
  },
  {
   "cell_type": "code",
   "execution_count": 50,
   "metadata": {},
   "outputs": [
    {
     "name": "stdout",
     "output_type": "stream",
     "text": [
      "Trainning set and Testing shape: (22483,) (5620,)\n"
     ]
    },
    {
     "data": {
      "text/plain": [
       "array([7., 1., 9., 2., 8., 9., 6., 6., 6., 4., 2., 8., 6., 1., 1., 1., 6.,\n",
       "       8., 8., 2., 5., 8., 2., 0., 2., 8., 9., 6., 2., 2., 6., 6., 8., 6.,\n",
       "       2., 2., 4., 8., 0., 2., 7., 3., 5., 2., 7., 2., 4., 2., 8., 9., 4.,\n",
       "       2., 7., 7., 4., 1., 6., 8., 4., 8., 7., 9., 6., 0., 5., 6., 7., 3.,\n",
       "       4., 9., 8., 5., 8., 8., 5., 5., 7., 8., 5., 7., 8., 7., 1., 2., 6.,\n",
       "       4., 2., 2., 3., 8., 9., 4., 1., 6., 5., 4., 0., 3., 6., 1.],\n",
       "      dtype=float32)"
      ]
     },
     "execution_count": 50,
     "metadata": {},
     "output_type": "execute_result"
    }
   ],
   "source": [
    "import itertools\n",
    "\n",
    "folds_lst = os.listdir(fold_path)\n",
    "i = 4\n",
    "train_vid = list(itertools.chain(*[load_fold_ids(os.path.join(fold_path, folds_lst[j])) for j in range(5) if j!=i]))\n",
    "test_vid = load_fold_ids(os.path.join(fold_path, folds_lst[i]))\n",
    "# (train_audio, test_audio), (train_rgb, test_rgb), (train_label, test_label) \\\n",
    "#                       = train_test_split(audio_data, train_vid, test_vid),\\\n",
    "#                         train_test_split(rgb_data,   train_vid, test_vid),\\\n",
    "#                         train_test_split(label_data, train_vid, test_vid)\n",
    "\n",
    "train_label, test_label= train_test_split(label_data, train_vid, test_vid)\n",
    "test_label[:100]"
   ]
  },
  {
   "cell_type": "code",
   "execution_count": null,
   "metadata": {},
   "outputs": [],
   "source": []
  },
  {
   "cell_type": "markdown",
   "metadata": {},
   "source": [
    "## TNN_CCA"
   ]
  },
  {
   "cell_type": "code",
   "execution_count": 44,
   "metadata": {},
   "outputs": [
    {
     "name": "stdout",
     "output_type": "stream",
     "text": [
      "(5620, 10) (5620, 10) (5621,) [0. 7. 7. 7. 0. 9. 9. 2. 2. 2. 7. 7. 6. 6. 6. 6. 6. 6. 6. 7. 4. 6. 6. 6.\n",
      " 8. 8. 4. 2. 2. 0. 0. 6. 6. 0. 0. 0. 0. 0. 0. 0. 0. 2. 1. 1. 1. 1. 5. 2.\n",
      " 2. 9. 9. 9. 1. 1. 1. 9. 9. 9. 8. 2. 8. 8. 2. 5. 2. 5. 2. 5. 5. 2. 2. 3.\n",
      " 3. 2. 2. 0. 6. 9. 3. 8. 9. 9. 0. 5. 5. 5. 6. 6. 1. 1. 8. 8. 8. 8. 8. 8.\n",
      " 4. 4. 4. 4. 4. 4. 1. 1. 1. 2. 4. 8. 8. 4. 5. 5. 5. 0. 1. 1. 1. 1. 8. 8.\n",
      " 2. 2. 8. 8. 0. 1. 1. 2. 2. 8. 2. 2. 2. 9. 9. 9. 9. 9. 9. 9. 8. 8. 5. 5.\n",
      " 5. 9. 5. 0. 0. 2. 2. 5. 6. 5. 6. 5. 3. 3. 3. 3. 6. 7. 3. 3. 7. 7. 6. 1.\n",
      " 1. 1. 4. 4. 6. 1. 1. 6. 6. 6. 6. 6. 6. 6. 6. 8. 6. 5. 5. 5. 5. 8. 2. 2.\n",
      " 2. 4. 8. 8. 5. 5. 8. 6.]\n",
      "(5620, 10) (5620, 10) (5620,) [0. 0. 7. 7. 7. 7. 7. 0. 0. 0. 0. 9. 2. 6. 6. 6. 7. 7. 4. 4. 4. 8. 8. 8.\n",
      " 8. 8. 4. 2. 2. 2. 6. 0. 0. 0. 0. 0. 0. 0. 0. 0. 0. 2. 1. 1. 1. 1. 1. 1.\n",
      " 1. 5. 2. 9. 9. 1. 2. 2. 2. 5. 5. 4. 3. 2. 2. 0. 0. 0. 0. 6. 6. 6. 7. 7.\n",
      " 7. 7. 9. 9. 3. 3. 7. 7. 7. 7. 8. 9. 9. 5. 6. 6. 6. 4. 4. 1. 4. 1. 1. 4.\n",
      " 5. 4. 6. 8. 8. 8. 4. 4. 4. 4. 4. 5. 5. 5. 0. 0. 0. 1. 8. 8. 8. 8. 8. 0.\n",
      " 0. 3. 3. 1. 1. 1. 1. 1. 9. 9. 9. 8. 8. 8. 5. 5. 5. 5. 9. 9. 5. 0. 0. 0.\n",
      " 8. 2. 6. 6. 3. 3. 6. 6. 7. 7. 3. 3. 7. 7. 6. 1. 1. 4. 4. 1. 6. 6. 6. 6.\n",
      " 6. 1. 1. 1. 2. 5. 6. 5. 4. 4. 4. 2. 4. 4. 4. 4. 8. 5. 5. 6. 6. 8. 4. 6.\n",
      " 5. 5. 0. 0. 0. 3. 3. 2.]\n",
      "(5620, 10) (5620, 10) (5620,) [0. 0. 0. 7. 7. 7. 7. 0. 9. 9. 9. 2. 2. 2. 5. 7. 7. 6. 6. 6. 6. 6. 7. 4.\n",
      " 4. 4. 4. 6. 4. 4. 0. 6. 6. 0. 2. 2. 1. 1. 1. 1. 1. 1. 5. 5. 5. 5. 5. 2.\n",
      " 2. 2. 9. 1. 1. 9. 9. 9. 9. 8. 5. 5. 5. 4. 2. 5. 5. 5. 2. 5. 5. 3. 3. 3.\n",
      " 3. 2. 0. 0. 6. 6. 6. 7. 7. 9. 9. 9. 3. 7. 7. 7. 7. 9. 9. 5. 6. 4. 4. 4.\n",
      " 4. 1. 1. 1. 1. 8. 8. 4. 4. 4. 4. 4. 6. 8. 5. 0. 0. 0. 1. 1. 8. 8. 8. 8.\n",
      " 0. 0. 3. 3. 1. 2. 9. 9. 9. 9. 9. 8. 5. 5. 0. 0. 0. 2. 5. 5. 6. 0. 6. 6.\n",
      " 7. 7. 3. 3. 7. 6. 6. 1. 1. 4. 4. 4. 4. 9. 9. 6. 1. 6. 6. 1. 3. 0. 6. 2.\n",
      " 8. 5. 4. 4. 4. 2. 2. 2. 4. 4. 4. 4. 8. 8. 5. 6. 6. 8. 4. 4. 4. 4. 4. 6.\n",
      " 5. 5. 5. 5. 0. 0. 0. 3.]\n",
      "(5620, 10) (5620, 10) (5621,) [0. 7. 7. 7. 0. 9. 9. 2. 2. 7. 7. 7. 6. 7. 7. 7. 7. 4. 6. 6. 6. 6. 6. 4.\n",
      " 4. 4. 2. 2. 0. 0. 6. 0. 6. 6. 6. 2. 1. 1. 1. 1. 1. 5. 5. 2. 9. 9. 1. 9.\n",
      " 8. 2. 8. 8. 4. 5. 5. 5. 2. 3. 2. 2. 0. 6. 7. 9. 9. 7. 8. 9. 9. 9. 5. 5.\n",
      " 5. 6. 6. 4. 4. 4. 1. 1. 5. 1. 1. 1. 1. 4. 4. 4. 8. 4. 4. 5. 0. 0. 8. 8.\n",
      " 2. 8. 8. 8. 0. 3. 3. 3. 2. 2. 2. 2. 8. 8. 8. 2. 2. 9. 9. 9. 8. 8. 5. 5.\n",
      " 5. 9. 0. 2. 5. 2. 2. 2. 5. 5. 5. 3. 3. 3. 0. 6. 6. 7. 7. 3. 3. 7. 7. 7.\n",
      " 6. 6. 6. 6. 1. 4. 4. 9. 6. 1. 1. 6. 6. 1. 1. 1. 6. 6. 6. 6. 6. 8. 4. 4.\n",
      " 2. 4. 8. 8. 8. 5. 5. 6. 6. 8. 8. 4. 4. 4. 6. 6. 6. 5. 0. 0. 0. 0. 0. 0.\n",
      " 3. 3. 2. 2. 2. 2. 3. 3.]\n",
      "(5620, 10) (5620, 10) (5621,) [0. 0. 0. 7. 7. 7. 7. 7. 0. 0. 0. 9. 9. 2. 1. 1. 5. 7. 7. 7. 6. 6. 6. 6.\n",
      " 7. 7. 4. 6. 8. 8. 8. 4. 4. 4. 2. 2. 2. 0. 0. 2. 2. 2. 2. 2. 1. 1. 1. 1.\n",
      " 1. 1. 1. 1. 1. 5. 2. 2. 2. 9. 9. 1. 1. 1. 4. 9. 2. 4. 9. 5. 5. 4. 4. 4.\n",
      " 4. 2. 2. 3. 3. 2. 2. 2. 0. 0. 6. 6. 7. 7. 7. 9. 9. 7. 3. 3. 1. 8. 9. 2.\n",
      " 5. 5. 6. 6. 4. 1. 4. 8. 8. 1. 4. 6. 6. 6. 6. 8. 8. 8. 4. 4. 4. 5. 5. 0.\n",
      " 1. 1. 1. 8. 8. 8. 8. 8. 0. 0. 0. 0. 3. 3. 3. 1. 1. 2. 2. 2. 2. 9. 9. 8.\n",
      " 8. 5. 5. 9. 9. 0. 2. 2. 8. 8. 3. 3. 5. 6. 6. 6. 7. 7. 7. 3. 3. 7. 7. 6.\n",
      " 6. 6. 9. 9. 1. 1. 9. 6. 6. 1. 1. 1. 1. 6. 6. 6. 6. 1. 1. 1. 0. 8. 6. 6.\n",
      " 5. 5. 5. 5. 4. 4. 2. 2.]\n"
     ]
    }
   ],
   "source": [
    "## tnn-c-cca embeding\n",
    "\n",
    "audio_path = \"/home/dhzeng/TNN_CCCA/embedding/Accca_test_audio_01s.h5.npy\"\n",
    "visual_path = \"/home/dhzeng/TNN_CCCA/embedding/Accca_test_visual_01s.h5.npy\"\n",
    "import numpy as np\n",
    "\n",
    "for i in range(5):\n",
    "    lab_path = \"/home/dhzeng/TNN_CCCA/embedding/test_lab_0\"+str(i)+\"s.h5.npy\"\n",
    "    lab = np.load(lab_path)\n",
    "    print(audio_emb.shape, visual_emb.shape, lab.shape, lab[:200])\n",
    "\n",
    "# audio_emb = np.load(audio_path)\n",
    "# visual_emb = np.load(visual_path)\n"
   ]
  },
  {
   "cell_type": "code",
   "execution_count": 2,
   "metadata": {},
   "outputs": [],
   "source": [
    "import _pickle as cPickle\n",
    "\n",
    "with open('/home/dhzeng/TNN_CCCA/ACMR/data/vegas/test_id_label_map.pkl', 'rb') as f:\n",
    "    test_labels = cPickle.load(f, encoding='iso-8859-1')"
   ]
  },
  {
   "cell_type": "code",
   "execution_count": 25,
   "metadata": {},
   "outputs": [
    {
     "data": {
      "text/plain": [
       "array([3, 6, 5, 8, 1, 8, 7, 9, 1, 8, 5, 5, 1, 9, 5, 2, 8, 5, 6, 6, 5, 0,\n",
       "       0, 6, 1, 2, 6, 5, 8, 8, 9, 7, 4, 1, 0, 2, 0, 8, 1, 4, 4, 4, 4, 9,\n",
       "       2, 1, 4, 3, 1, 0, 3, 1, 1, 5, 4, 4, 2, 0, 5, 4, 3, 5, 9, 8, 6, 3,\n",
       "       9, 4, 4, 0, 8, 2, 9, 0, 3, 1, 4, 5, 3, 4, 0, 6, 0, 3, 8, 6, 5, 8,\n",
       "       4, 5, 4, 4, 2, 0, 4, 8, 9, 8, 4, 2, 1, 8, 3, 9, 5, 4, 2, 1, 8, 2,\n",
       "       3, 1, 9, 1, 2, 5, 5, 1, 2, 2, 2, 4, 7, 6, 8, 6, 0, 9, 6, 2, 4, 3,\n",
       "       8, 9, 8, 8, 1, 6, 8, 1, 2, 4, 3, 6, 5, 5, 6, 8, 8, 2, 9, 0, 1, 4,\n",
       "       8, 1, 4, 6, 9, 7, 2, 2, 5, 8, 2, 1, 6, 6, 3, 7, 3, 8, 3, 1, 8, 0,\n",
       "       6, 7, 6, 4, 0, 1, 8, 6, 0, 8, 5, 4, 1, 0, 7, 4, 1, 3, 1, 4, 8, 6,\n",
       "       6, 2])"
      ]
     },
     "execution_count": 25,
     "metadata": {},
     "output_type": "execute_result"
    }
   ],
   "source": [
    "a= np.array(list(test_labels.values()))[:200]\n",
    "\n",
    "np.where(a==1.0)[1]"
   ]
  },
  {
   "cell_type": "code",
   "execution_count": 22,
   "metadata": {},
   "outputs": [
    {
     "data": {
      "text/plain": [
       "numpy.float32"
      ]
     },
     "execution_count": 22,
     "metadata": {},
     "output_type": "execute_result"
    }
   ],
   "source": [
    "type(a[0][3])"
   ]
  },
  {
   "cell_type": "code",
   "execution_count": null,
   "metadata": {},
   "outputs": [],
   "source": []
  }
 ],
 "metadata": {
  "kernelspec": {
   "display_name": "p36workshop",
   "language": "python",
   "name": "p36workshop"
  },
  "language_info": {
   "codemirror_mode": {
    "name": "ipython",
    "version": 3
   },
   "file_extension": ".py",
   "mimetype": "text/x-python",
   "name": "python",
   "nbconvert_exporter": "python",
   "pygments_lexer": "ipython3",
   "version": "3.7.5"
  }
 },
 "nbformat": 4,
 "nbformat_minor": 2
}
